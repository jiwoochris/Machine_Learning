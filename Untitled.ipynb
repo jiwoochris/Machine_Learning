{
 "cells": [
  {
   "cell_type": "code",
   "execution_count": 20,
   "id": "32747f79",
   "metadata": {},
   "outputs": [
    {
     "data": {
      "text/plain": [
       "1.0941742837052104"
      ]
     },
     "execution_count": 20,
     "metadata": {},
     "output_type": "execute_result"
    }
   ],
   "source": [
    "import numpy as np\n",
    "\n",
    "x1 = [-1, 0]\n",
    "center1 = [-2,0]\n",
    "\n",
    "gamma = 0.1\n",
    "\n",
    "np.exp( -gamma*np.power ( 3, 2 ) )"
   ]
  }
 ],
 "metadata": {
  "kernelspec": {
   "display_name": "Python 3.9.7 ('base')",
   "language": "python",
   "name": "python3"
  },
  "language_info": {
   "codemirror_mode": {
    "name": "ipython",
    "version": 3
   },
   "file_extension": ".py",
   "mimetype": "text/x-python",
   "name": "python",
   "nbconvert_exporter": "python",
   "pygments_lexer": "ipython3",
   "version": "3.9.7"
  },
  "vscode": {
   "interpreter": {
    "hash": "81261de9cf1819f13675bce2bf71496dbd087d9ef5d434efe5d8ebffb7711cd8"
   }
  }
 },
 "nbformat": 4,
 "nbformat_minor": 5
}
